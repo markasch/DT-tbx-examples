{
 "cells": [
  {
   "cell_type": "markdown",
   "id": "313cc550-59e5-46ad-bba0-8e2f867dec58",
   "metadata": {},
   "source": [
    "Compare methods for solving $Ax = b,$ where \n",
    "\n",
    "- $A$ is a Hilbert matrix of order $n,$\n",
    "- $b$ is the RHS for a solution $x=[1  \\; 1 \\ldots 1]^T.$"
   ]
  },
  {
   "cell_type": "code",
   "execution_count": 1,
   "id": "8bedacc6-aabc-40dc-a95b-610d8a986e2c",
   "metadata": {},
   "outputs": [],
   "source": [
    "import numpy as np\n",
    "from scipy.linalg import hilbert\n",
    "n = 14\n",
    "A = hilbert(n)\n",
    "x = np.ones((n,1))\n",
    "b = np.dot(A,x)\n",
    "# or:\n",
    "# >> b = np.mat(A)*x"
   ]
  },
  {
   "cell_type": "markdown",
   "id": "42b1970b-564c-491e-9605-3665f618ba7a",
   "metadata": {},
   "source": [
    "Solve with LU and compute the error"
   ]
  },
  {
   "cell_type": "code",
   "execution_count": 2,
   "id": "0193fed0-69f0-46b4-95a6-5616100d486b",
   "metadata": {},
   "outputs": [],
   "source": [
    "x_LU   = np.linalg.solve(A,b)\n",
    "err_LU = np.linalg.norm(x - x_LU) / np.linalg.norm(x)"
   ]
  },
  {
   "cell_type": "markdown",
   "id": "e9c0795d-d656-40f1-b616-bd32c9f2a4e7",
   "metadata": {},
   "source": [
    "Solve with CG and compute the error"
   ]
  },
  {
   "cell_type": "code",
   "execution_count": 3,
   "id": "a3124cb6-ba8e-4b41-978b-46b31b61b0d1",
   "metadata": {},
   "outputs": [],
   "source": [
    "from scipy.sparse.linalg import cg\n",
    "x_CG, exitCode = cg(A,b, tol=1e-6)\n",
    "err_CG = np.linalg.norm(x - x_CG) / np.linalg.norm(x)"
   ]
  },
  {
   "cell_type": "markdown",
   "id": "5ed4553d-0bde-4470-bc17-c43a4264e255",
   "metadata": {},
   "source": [
    "Ouput the results"
   ]
  },
  {
   "cell_type": "code",
   "execution_count": 4,
   "id": "21b6af2a-851c-40c9-95f1-84acab4a9d73",
   "metadata": {},
   "outputs": [
    {
     "name": "stdout",
     "output_type": "stream",
     "text": [
      "Condition number of A = 2.5515e+17\n",
      "Relative error for LU = 3.2812e+00\n",
      "Relative error for CG = 1.5990e-02\n"
     ]
    }
   ],
   "source": [
    "print('Condition number of A = %g' % np.linalg.cond(A))\n",
    "print('Relative error for LU = %0.4e' % err_LU)\n",
    "print('Relative error for CG = %0.4e' % err_CG)"
   ]
  }
 ],
 "metadata": {
  "kernelspec": {
   "display_name": "Python 3 (ipykernel)",
   "language": "python",
   "name": "python3"
  },
  "language_info": {
   "codemirror_mode": {
    "name": "ipython",
    "version": 3
   },
   "file_extension": ".py",
   "mimetype": "text/x-python",
   "name": "python",
   "nbconvert_exporter": "python",
   "pygments_lexer": "ipython3",
   "version": "3.9.7"
  }
 },
 "nbformat": 4,
 "nbformat_minor": 5
}
