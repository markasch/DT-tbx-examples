{
 "cells": [
  {
   "cell_type": "code",
   "execution_count": 1,
   "id": "7c1ce3a7-7ee5-441c-9c27-b51f3b551c9f",
   "metadata": {},
   "outputs": [
    {
     "name": "stdout",
     "output_type": "stream",
     "text": [
      "3.139952\n"
     ]
    }
   ],
   "source": [
    "import random\n",
    "N = 1000000\n",
    "\n",
    "count = 0  #count will store the number of random points\n",
    "           #that fell within the 1st quadrant of the unit circle\n",
    "\n",
    "for i in range(N):\n",
    "    x, y = random.random(), random.random()\n",
    "    if x**2 + y**2 < 1:\n",
    "        count += 1\n",
    "    \n",
    "print(4*count/N)"
   ]
  },
  {
   "cell_type": "code",
   "execution_count": null,
   "id": "2cc69833-1397-4e78-8ceb-c6581c9ced8a",
   "metadata": {},
   "outputs": [],
   "source": []
  }
 ],
 "metadata": {
  "kernelspec": {
   "display_name": "Python 3",
   "language": "python",
   "name": "python3"
  },
  "language_info": {
   "codemirror_mode": {
    "name": "ipython",
    "version": 3
   },
   "file_extension": ".py",
   "mimetype": "text/x-python",
   "name": "python",
   "nbconvert_exporter": "python",
   "pygments_lexer": "ipython3",
   "version": "3.9.2"
  }
 },
 "nbformat": 4,
 "nbformat_minor": 5
}
