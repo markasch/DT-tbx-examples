{
 "cells": [
  {
   "cell_type": "markdown",
   "id": "85d93a5b",
   "metadata": {},
   "source": [
    "Solve the 1D Laplace's equation with a Neumann condition,\n",
    "$$\n",
    " \\begin{eqnarray}\n",
    "  && u'' = f , \\quad x \\in (a,b),\\\\\n",
    "  && u'(a)= \\alpha, \\quad u(b)= \\beta,\n",
    " \\end{eqnarray}\n",
    "$$\n",
    "using 1st and 2nd order approximations of the Neumann boundary condition."
   ]
  },
  {
   "cell_type": "code",
   "execution_count": 1,
   "id": "d68ca9f6",
   "metadata": {},
   "outputs": [],
   "source": [
    "import numpy as np\n",
    "import matplotlib.pyplot as plt\n",
    "\n",
    "# Parameters\n",
    "a = 0; b = 1;\n",
    "alpha = 1; beta = 2;\n",
    "\n",
    "n = 10 # initial number of points\n",
    "h = (b-a)/(n+1)\n",
    "\n",
    "# RHS\n",
    "def f(x):\n",
    "    return np.exp(x)\n",
    "\n",
    "# Exact solution\n",
    "def u_true(x, alpha, beta):\n",
    "    return np.exp(x) + (alpha - np.exp(a))*(x-b) + beta - np.exp(b)"
   ]
  },
  {
   "cell_type": "markdown",
   "id": "29833db6",
   "metadata": {},
   "source": [
    "Convergence loop, over increasing number of mesh points, decreasing $h$ to $h/2$ at each iteration "
   ]
  },
  {
   "cell_type": "code",
   "execution_count": 2,
   "id": "71132a3f",
   "metadata": {},
   "outputs": [
    {
     "data": {
      "text/plain": [
       "<matplotlib.legend.Legend at 0x7f96883afe80>"
      ]
     },
     "execution_count": 2,
     "metadata": {},
     "output_type": "execute_result"
    },
    {
     "data": {
      "image/png": "[encoded data removed]",
      "text/plain": [
       "<Figure size 432x288 with 1 Axes>"
      ]
     },
     "metadata": {
      "needs_background": "light"
     },
     "output_type": "display_data"
    }
   ],
   "source": [
    "iter = 8\n",
    "err = np.zeros([iter,2])\n",
    "for k in range(0,iter):\n",
    "    # Mesh\n",
    "    x = np.linspace(a,b,n)\n",
    "    # Assemble sparse FD matrix A and right-hand side\n",
    "    diago = np.zeros(n)\n",
    "    lower = np.zeros(n-1)\n",
    "    upper = np.zeros(n-1)\n",
    "    U     = np.zeros(n)\n",
    "    # Precompute sparse matrix (scipy format)\n",
    "    diago[:] = -2.\n",
    "    lower[:] =  1.\n",
    "    upper[:] =  1.\n",
    "    # Insert boundary conditions (1st order)\n",
    "    diago[0]  = -1.\n",
    "    upper[0]  =  1.\n",
    "    lower[-1] =  0.\n",
    "    diago[-1] =  1.\n",
    "    # Insert boundary conditions (2nd order)\n",
    "    #diago[0]  = -3.\n",
    "    #upper[0]  =  4.\n",
    "\n",
    "    diags = [0, -1, 1]\n",
    "    import scipy.sparse\n",
    "    import scipy.sparse.linalg\n",
    "    A = scipy.sparse.diags(\n",
    "        diagonals=[diago, lower, upper],\n",
    "        offsets=diags, shape=(n, n),\n",
    "        format='csr')\n",
    "    #A[0,2] = -1.  # 2nd order\n",
    "    F = h**2 * f(x)\n",
    "    F[0] = h*alpha    # 1st order\n",
    "    #F[0] = 2*h*alpha # 2nd order\n",
    "    F[n-1] = beta\n",
    "    # solve\n",
    "    U[:] = scipy.sparse.linalg.spsolve(A, F)\n",
    "    # compute error\n",
    "    err[k,1] = np.max(np.abs(U-u_true(x,alpha,beta)))\n",
    "    err[k,0] = h\n",
    "    n = n*2\n",
    "    h = (b-a)/(n-1)\n",
    "# plot errors\n",
    "plt.plot(np.log10(err[1:,0]),np.log10(err[1:,1]),'-',label=\"error\")\n",
    "plt.plot(np.log10(err[1:,0]),np.log10(err[1:,0])-1 ,'-',label=\"h\")\n",
    "#plt.plot(np.log10(err[1:,0]),2*np.log10(err[1:,0])-1 ,'-',label=\"h^2\") # 2nd order\n",
    "plt.legend()"
   ]
  }
 ],
 "metadata": {
  "kernelspec": {
   "display_name": "Python 3 (ipykernel)",
   "language": "python",
   "name": "python3"
  },
  "language_info": {
   "codemirror_mode": {
    "name": "ipython",
    "version": 3
   },
   "file_extension": ".py",
   "mimetype": "text/x-python",
   "name": "python",
   "nbconvert_exporter": "python",
   "pygments_lexer": "ipython3",
   "version": "3.9.7"
  }
 },
 "nbformat": 4,
 "nbformat_minor": 5
}
