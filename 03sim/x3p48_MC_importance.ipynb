{
 "cells": [
  {
   "cell_type": "code",
   "execution_count": 1,
   "id": "e353b2c8",
   "metadata": {},
   "outputs": [
    {
     "data": {
      "text/plain": [
       "[<matplotlib.lines.Line2D at 0x7f82332accd0>]"
      ]
     },
     "execution_count": 1,
     "metadata": {},
     "output_type": "execute_result"
    },
    {
     "data": {
      "image/png": "[encoded data removed]",
      "text/plain": [
       "<Figure size 432x288 with 1 Axes>"
      ]
     },
     "metadata": {
      "needs_background": "light"
     },
     "output_type": "display_data"
    }
   ],
   "source": [
    "import scipy.stats as stats\n",
    "import matplotlib.pyplot as plt\n",
    "import numpy as np\n",
    "\n",
    "x = np.linspace(4, 10, 100)\n",
    "plt.plot(x, stats.expon(5).pdf(x))\n",
    "plt.plot(x, stats.norm().pdf(x))"
   ]
  },
  {
   "cell_type": "markdown",
   "id": "b6b2f8d8",
   "metadata": {},
   "source": [
    "The true probability of the extreme event, $\\mathrm{P} (X>5) $ is extremely small."
   ]
  },
  {
   "cell_type": "code",
   "execution_count": 2,
   "id": "83684c29",
   "metadata": {},
   "outputs": [
    {
     "data": {
      "text/plain": [
       "2.866515719235352e-07"
      ]
     },
     "execution_count": 2,
     "metadata": {},
     "output_type": "execute_result"
    }
   ],
   "source": [
    "P_true = 1 - stats.norm().cdf(5)\n",
    "P_true"
   ]
  },
  {
   "cell_type": "markdown",
   "id": "00d88ac7",
   "metadata": {},
   "source": [
    "First try ordinary MC."
   ]
  },
  {
   "cell_type": "code",
   "execution_count": 3,
   "id": "0417cd5c",
   "metadata": {},
   "outputs": [
    {
     "data": {
      "text/plain": [
       "(0.0, 1.0)"
      ]
     },
     "execution_count": 3,
     "metadata": {},
     "output_type": "execute_result"
    }
   ],
   "source": [
    "N= 10000\n",
    "y = stats.norm().rvs(N)\n",
    "P_mc = 1.0/N * np.sum(y > 5)\n",
    "# estimate and relative error\n",
    "P_mc, np.abs(P_mc - P_true)/P_true"
   ]
  },
  {
   "cell_type": "markdown",
   "id": "3c935d65",
   "metadata": {},
   "source": [
    "The result is completely off. Now we apply importance sampling with the truncated exponential"
   ]
  },
  {
   "cell_type": "code",
   "execution_count": 4,
   "id": "cbe78b8d",
   "metadata": {},
   "outputs": [
    {
     "data": {
      "text/plain": [
       "(2.946190959301109e-07, 0.02779515197879704)"
      ]
     },
     "execution_count": 4,
     "metadata": {},
     "output_type": "execute_result"
    }
   ],
   "source": [
    "N = 10000\n",
    "y = stats.expon(loc=5).rvs(N)\n",
    "P_is = 1.0/N * np.sum(stats.norm().pdf(y)/stats.expon(loc=5).pdf(y))\n",
    "# estimate and relative error\n",
    "P_is, np.abs(P_is- P_true)/P_true"
   ]
  },
  {
   "cell_type": "markdown",
   "id": "356f788d",
   "metadata": {},
   "source": [
    "The result is excellent, with a relative error of only $0.4\\%.$"
   ]
  },
  {
   "cell_type": "code",
   "execution_count": null,
   "id": "38b64f5e",
   "metadata": {},
   "outputs": [],
   "source": []
  }
 ],
 "metadata": {
  "kernelspec": {
   "display_name": "Python 3 (ipykernel)",
   "language": "python",
   "name": "python3"
  },
  "language_info": {
   "codemirror_mode": {
    "name": "ipython",
    "version": 3
   },
   "file_extension": ".py",
   "mimetype": "text/x-python",
   "name": "python",
   "nbconvert_exporter": "python",
   "pygments_lexer": "ipython3",
   "version": "3.9.7"
  }
 },
 "nbformat": 4,
 "nbformat_minor": 5
}
