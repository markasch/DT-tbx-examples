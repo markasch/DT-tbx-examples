{
 "cells": [
  {
   "cell_type": "markdown",
   "id": "2ff84d43-5bc0-4f44-bceb-203c2d3d2793",
   "metadata": {},
   "source": [
    "ODE with instabilities is given by\n",
    " \\begin{eqnarray} y' &=& \\frac{-1}{t^2} + \\alpha*\\left(y - \\frac{1}{t} \\right), \\quad \\alpha>0, \\quad 1<t<10, \\\\\n",
    " y(1) &=& 1. \\end{eqnarray}\n",
    " \n",
    " The exact solution is $$ y = \\frac{1}{t}.$$\n",
    " \n",
    " However, there is an inherent instability in the model.\n",
    " \n",
    " We compare the following solution methods:\n",
    " \n",
    "\n",
    " 1. RKF45 - Explicit Adaptive Runge-Kutta-Fehlberg (use ode45) \n",
    " 2. BDF1 - Implicit Backward Euler with fixed time step\n",
    " 3. BDFn - Implicit Adaptive BDF (use ode15s)\n",
    "\n",
    "Load libraries and set initial conditions."
   ]
  },
  {
   "cell_type": "code",
   "execution_count": 1,
   "id": "80182e3f-7052-4908-a7b0-90ca64dc87d1",
   "metadata": {},
   "outputs": [],
   "source": [
    "import numpy as np\n",
    "import matplotlib.pyplot as plt\n",
    "from scipy.integrate import solve_ivp\n",
    "\n",
    "t0 = 1; tf = 10; y0 = [1.] #initial conditions and final time\n",
    "alpha = [10.];\n",
    "t_span = [1., 10.]"
   ]
  },
  {
   "cell_type": "markdown",
   "id": "e7953eb3-f045-43a3-8055-0b554949e69f",
   "metadata": {},
   "source": [
    "Solve using explicit RKF45"
   ]
  },
  {
   "cell_type": "code",
   "execution_count": 2,
   "id": "bf6ee84c-faec-45e1-ab60-f20137392aa6",
   "metadata": {},
   "outputs": [
    {
     "data": {
      "text/plain": [
       "Text(0, 0.5, 'y(t)')"
      ]
     },
     "execution_count": 2,
     "metadata": {},
     "output_type": "execute_result"
    },
    {
     "data": {
      "image/png": "[encoded data removed]",
      "text/plain": [
       "<Figure size 432x288 with 1 Axes>"
      ]
     },
     "metadata": {
      "needs_background": "light"
     },
     "output_type": "display_data"
    }
   ],
   "source": [
    "def unstable(t,y,alpha):\n",
    "    y = -1/t**2 + alpha*(y - 1/t)\n",
    "    return y\n",
    "# solve\n",
    "sol = solve_ivp(unstable, t_span, y0, args=alpha, method='RK45', dense_output=True)\n",
    "# plot\n",
    "t = np.linspace(0, 10, 100)\n",
    "y = sol.sol(t)\n",
    "plt.plot(t, y.T)\n",
    "plt.xlabel('t')\n",
    "plt.ylabel('y(t)')"
   ]
  },
  {
   "cell_type": "markdown",
   "id": "b10b572c-9c06-4606-8b1e-06bddd8bca1e",
   "metadata": {},
   "source": [
    "Solve using implicit, variable order BDF method"
   ]
  },
  {
   "cell_type": "code",
   "execution_count": 3,
   "id": "b60f1aa3-5007-4c70-8b0a-a6d9d7b7b0b4",
   "metadata": {},
   "outputs": [
    {
     "data": {
      "text/plain": [
       "Text(0, 0.5, 'y(t)')"
      ]
     },
     "execution_count": 3,
     "metadata": {},
     "output_type": "execute_result"
    },
    {
     "data": {
      "image/png": "[encoded data removed]",
      "text/plain": [
       "<Figure size 432x288 with 1 Axes>"
      ]
     },
     "metadata": {
      "needs_background": "light"
     },
     "output_type": "display_data"
    }
   ],
   "source": [
    "# solve\n",
    "sol = solve_ivp(unstable, t_span, y0, args=alpha, method='BDF', dense_output=True)\n",
    "# plot\n",
    "t = np.linspace(0, 10, 100)\n",
    "y = sol.sol(t)\n",
    "plt.plot(t, y.T)\n",
    "plt.xlabel('t')\n",
    "plt.ylabel('y(t)')"
   ]
  },
  {
   "cell_type": "markdown",
   "id": "db524991-64ca-4397-aece-f60b84866a5a",
   "metadata": {},
   "source": [
    "Finally, try a fixed-step, implicit backward Euler method."
   ]
  },
  {
   "cell_type": "code",
   "execution_count": 4,
   "id": "b47a3ff7-9bea-47b5-8571-b8fd76a3dbc3",
   "metadata": {},
   "outputs": [],
   "source": [
    "def backward_euler ( f, tspan, y0, n ):\n",
    "  from scipy.optimize import fsolve\n",
    "\n",
    "  if ( np.ndim ( y0 ) == 0 ):\n",
    "    m = 1\n",
    "  else:\n",
    "    m = len ( y0 )\n",
    "\n",
    "  t = np.zeros ( n + 1 )\n",
    "  y = np.zeros ( [ n + 1, m ] )\n",
    "\n",
    "  dt = ( tspan[1] - tspan[0] ) / float ( n )\n",
    "\n",
    "  #t[0] = 0.0;\n",
    "  t[0] = tspan[0];\n",
    "  y[0,:] = y0\n",
    "\n",
    "  for i in range ( 0, n ):\n",
    "    to = t[i]\n",
    "    yo = y[i,:]\n",
    "    tp = t[i] + dt\n",
    "    yp = yo + dt * f ( to, yo )\n",
    "\n",
    "    yp = fsolve ( backward_euler_residual, yp, args = ( f, to, yo, tp ) )\n",
    "\n",
    "    t[i+1]   = tp\n",
    "    y[i+1,:] = yp[:]\n",
    "  return t, y\n",
    "\n",
    "def backward_euler_residual ( yp, f, to, yo, tp ):\n",
    "  value = yp - yo - ( tp - to ) * f ( tp, yp );\n",
    "  return value"
   ]
  },
  {
   "cell_type": "code",
   "execution_count": 5,
   "id": "dfd47aaf-35e0-414a-923f-af99656fb35b",
   "metadata": {},
   "outputs": [
    {
     "data": {
      "text/plain": [
       "Text(0, 0.5, 'y(t)')"
      ]
     },
     "execution_count": 5,
     "metadata": {},
     "output_type": "execute_result"
    },
    {
     "data": {
      "image/png": "[encoded data removed]",
      "text/plain": [
       "<Figure size 432x288 with 1 Axes>"
      ]
     },
     "metadata": {
      "needs_background": "light"
     },
     "output_type": "display_data"
    }
   ],
   "source": [
    "def unstable2(t,y):\n",
    "    y = -1/t**2 + 10.*(y - 1/t)\n",
    "    return y\n",
    "  \n",
    "#t_span = np.array ( [ 1.0, 10.0 ] )\n",
    "t_span = [ 1.0, 10.0 ] \n",
    "y0 = 1.\n",
    "n = 19\n",
    "t2, y2 = backward_euler(unstable2, t_span, y0, n )\n",
    "# plot\n",
    "plt.plot(t2, y2)\n",
    "plt.xlabel('t')\n",
    "plt.ylabel('y(t)')"
   ]
  },
  {
   "cell_type": "code",
   "execution_count": null,
   "id": "2cf40d41-8594-4bc2-be8b-f1c17748252b",
   "metadata": {},
   "outputs": [],
   "source": []
  }
 ],
 "metadata": {
  "kernelspec": {
   "display_name": "Python 3 (ipykernel)",
   "language": "python",
   "name": "python3"
  },
  "language_info": {
   "codemirror_mode": {
    "name": "ipython",
    "version": 3
   },
   "file_extension": ".py",
   "mimetype": "text/x-python",
   "name": "python",
   "nbconvert_exporter": "python",
   "pygments_lexer": "ipython3",
   "version": "3.9.7"
  }
 },
 "nbformat": 4,
 "nbformat_minor": 5
}
