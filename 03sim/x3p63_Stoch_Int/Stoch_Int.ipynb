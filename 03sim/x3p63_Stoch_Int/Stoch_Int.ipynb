{
 "cells": [
  {
   "cell_type": "markdown",
   "id": "52bf59c4",
   "metadata": {},
   "source": [
    "Compute the stochastic integral\n",
    "$$ \\int_0^T W \\mathrm{d}W ,$$ whose exact value is \n",
    "$$ \\frac{1}{2} W(T)^2,$$\n",
    "using Ito and Stratonovich integrals."
   ]
  },
  {
   "cell_type": "code",
   "execution_count": 1,
   "id": "88689c1a",
   "metadata": {},
   "outputs": [
    {
     "name": "stdout",
     "output_type": "stream",
     "text": [
      "Ito integral =         -0.1306, error = 0.0040\n",
      "Stratonovich integral = 0.3789, error = 0.0056\n"
     ]
    }
   ],
   "source": [
    "import numpy as np\n",
    "\n",
    "np.random.seed(123) # for reproducibility\n",
    "\n",
    "# time interval and time-step\n",
    "T = 1\n",
    "N = 500\n",
    "dt = T/N\n",
    "# paths\n",
    "dW = np.sqrt(dt)*np.random.randn(N)  # increments\n",
    "W  = np.cumsum(dW)                   # cumulative sum\n",
    "# approximations\n",
    "W0    = np.append([0], W[0:N-1]) # enforce zero initial condition\n",
    "ito   = np.sum( W0 * dW ) \n",
    "strat = np.sum( (0.5*(W0+W) + 0.5*np.sqrt(dt)*np.random.randn(N))*dW)\n",
    "# errors\n",
    "err_it = np.abs(ito -   0.5*(W[-1]**2 - T))\n",
    "err_st = np.abs(strat - 0.5*W[-1]**2)\n",
    "# output\n",
    "print('Ito integral =         %.4f, error = %.4f' % (ito,   err_it))\n",
    "print('Stratonovich integral = %.4f, error = %.4f' % (strat, err_st))"
   ]
  }
 ],
 "metadata": {
  "kernelspec": {
   "display_name": "Python 3 (ipykernel)",
   "language": "python",
   "name": "python3"
  },
  "language_info": {
   "codemirror_mode": {
    "name": "ipython",
    "version": 3
   },
   "file_extension": ".py",
   "mimetype": "text/x-python",
   "name": "python",
   "nbconvert_exporter": "python",
   "pygments_lexer": "ipython3",
   "version": "3.9.7"
  }
 },
 "nbformat": 4,
 "nbformat_minor": 5
}
