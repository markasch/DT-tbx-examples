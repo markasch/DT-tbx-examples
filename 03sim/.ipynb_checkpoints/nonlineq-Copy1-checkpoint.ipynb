{
 "cells": [
  {
   "cell_type": "code",
   "execution_count": 22,
   "metadata": {},
   "outputs": [
    {
     "data": {
      "text/latex": [
       "$\\displaystyle \\left\\{- \\frac{\\sqrt{3} \\sin{\\left(\\frac{\\pi}{9} \\right)}}{2} - 3 \\operatorname{re}{\\left(\\frac{1}{\\left(- \\frac{1}{2} - \\frac{\\sqrt{3} i}{2}\\right) \\sqrt[3]{\\frac{27}{2} + \\frac{27 \\sqrt{3} i}{2}}}\\right)} + \\frac{\\cos{\\left(\\frac{\\pi}{9} \\right)}}{2} + i \\left(- 3 \\operatorname{im}{\\left(\\frac{1}{\\left(- \\frac{1}{2} - \\frac{\\sqrt{3} i}{2}\\right) \\sqrt[3]{\\frac{27}{2} + \\frac{27 \\sqrt{3} i}{2}}}\\right)} + \\frac{\\sin{\\left(\\frac{\\pi}{9} \\right)}}{2} + \\frac{\\sqrt{3} \\cos{\\left(\\frac{\\pi}{9} \\right)}}{2}\\right), \\frac{\\sqrt{3} \\sin{\\left(\\frac{\\pi}{9} \\right)}}{2} + \\frac{\\cos{\\left(\\frac{\\pi}{9} \\right)}}{2} - 3 \\operatorname{re}{\\left(\\frac{1}{\\left(- \\frac{1}{2} + \\frac{\\sqrt{3} i}{2}\\right) \\sqrt[3]{\\frac{27}{2} + \\frac{27 \\sqrt{3} i}{2}}}\\right)} + i \\left(- \\frac{\\sqrt{3} \\cos{\\left(\\frac{\\pi}{9} \\right)}}{2} + \\frac{\\sin{\\left(\\frac{\\pi}{9} \\right)}}{2} - 3 \\operatorname{im}{\\left(\\frac{1}{\\left(- \\frac{1}{2} + \\frac{\\sqrt{3} i}{2}\\right) \\sqrt[3]{\\frac{27}{2} + \\frac{27 \\sqrt{3} i}{2}}}\\right)}\\right), - 2 \\cos{\\left(\\frac{\\pi}{9} \\right)}\\right\\}$"
      ],
      "text/plain": [
       "FiniteSet(-2*cos(pi/9), -sqrt(3)*sin(pi/9)/2 - 3*re(1/((-1/2 - sqrt(3)*I/2)*(27/2 + 27*sqrt(3)*I/2)**(1/3))) + cos(pi/9)/2 + I*(-3*im(1/((-1/2 - sqrt(3)*I/2)*(27/2 + 27*sqrt(3)*I/2)**(1/3))) + sin(pi/9)/2 + sqrt(3)*cos(pi/9)/2), sqrt(3)*sin(pi/9)/2 + cos(pi/9)/2 - 3*re(1/((-1/2 + sqrt(3)*I/2)*(27/2 + 27*sqrt(3)*I/2)**(1/3))) + I*(-sqrt(3)*cos(pi/9)/2 + sin(pi/9)/2 - 3*im(1/((-1/2 + sqrt(3)*I/2)*(27/2 + 27*sqrt(3)*I/2)**(1/3)))))"
      ]
     },
     "execution_count": 22,
     "metadata": {},
     "output_type": "execute_result"
    }
   ],
   "source": [
    "from sympy.solvers import solve, solveset\n",
    "from sympy import Symbol, var\n",
    "#x = Symbol('x')\n",
    "#solve(x**3-3*x+1,x)\n",
    "x = var('x',real=True)\n",
    "solveset(x**3-3*x+1,x)\n",
    "#print(solveset(x**3-3*x+1,x))"
   ]
  },
  {
   "cell_type": "code",
   "execution_count": 6,
   "metadata": {},
   "outputs": [
    {
     "data": {
      "text/plain": [
       "[-1, 1]"
      ]
     },
     "execution_count": 6,
     "metadata": {},
     "output_type": "execute_result"
    }
   ],
   "source": [
    "solve(x**2 -1,x)"
   ]
  },
  {
   "cell_type": "code",
   "execution_count": 47,
   "metadata": {},
   "outputs": [
    {
     "data": {
      "image/png": "[encoded data removed]",
      "text/plain": [
       "<Figure size 432x288 with 1 Axes>"
      ]
     },
     "metadata": {},
     "output_type": "display_data"
    }
   ],
   "source": [
    "import numpy as np\n",
    "import matplotlib.pyplot as plt\n",
    "plt.style.use('ggplot')\n",
    "\n",
    "def f(x):\n",
    "    return x**3-3*x+1\n",
    "x = np.linspace(-3,3,100)\n",
    "plt.axhline(0, c='red')\n",
    "plt.plot(x, f(x),'blue')\n",
    "plt.show()"
   ]
  },
  {
   "cell_type": "code",
   "execution_count": 23,
   "metadata": {},
   "outputs": [
    {
     "name": "stdout",
     "output_type": "stream",
     "text": [
      "FiniteSet(-3.19296319480108, 1.43925417946882, 6.95416726521169)\n"
     ]
    }
   ],
   "source": [
    "from sympy import var, solveset\n",
    "x = var('x', real=True)\n",
    "print(solveset(-0.0643820896731566*x**3 + 0.334816369385245*x**2 + 1.08104426781115*x - 2.05750838005246,x))"
   ]
  },
  {
   "cell_type": "code",
   "execution_count": 24,
   "metadata": {},
   "outputs": [
    {
     "name": "stdout",
     "output_type": "stream",
     "text": [
      "FiniteSet(-2*cos(pi/9), -sqrt(3)*sin(pi/9)/2 - 3*re(1/((-1/2 - sqrt(3)*I/2)*(27/2 + 27*sqrt(3)*I/2)**(1/3))) + cos(pi/9)/2 + I*(-3*im(1/((-1/2 - sqrt(3)*I/2)*(27/2 + 27*sqrt(3)*I/2)**(1/3))) + sin(pi/9)/2 + sqrt(3)*cos(pi/9)/2), sqrt(3)*sin(pi/9)/2 + cos(pi/9)/2 - 3*re(1/((-1/2 + sqrt(3)*I/2)*(27/2 + 27*sqrt(3)*I/2)**(1/3))) + I*(-sqrt(3)*cos(pi/9)/2 + sin(pi/9)/2 - 3*im(1/((-1/2 + sqrt(3)*I/2)*(27/2 + 27*sqrt(3)*I/2)**(1/3)))))\n"
     ]
    }
   ],
   "source": [
    "from sympy import var, solveset\n",
    "x = var('x', real=True)\n",
    "print(solveset(x**3 -3*x +1,x))"
   ]
  },
  {
   "cell_type": "code",
   "execution_count": 26,
   "metadata": {},
   "outputs": [],
   "source": [
    "var('x, a,  c, d')\n",
    "Sol3=solve (a*x**3+c*x+d, x)"
   ]
  },
  {
   "cell_type": "code",
   "execution_count": 27,
   "metadata": {},
   "outputs": [
    {
     "data": {
      "text/latex": [
       "$\\displaystyle - \\frac{\\left(- \\frac{1}{2} - \\frac{\\sqrt{3} i}{2}\\right) \\sqrt[3]{\\frac{\\sqrt{\\frac{729 d^{2}}{a^{2}} + \\frac{108 c^{3}}{a^{3}}}}{2} + \\frac{27 d}{2 a}}}{3} + \\frac{c}{a \\left(- \\frac{1}{2} - \\frac{\\sqrt{3} i}{2}\\right) \\sqrt[3]{\\frac{\\sqrt{\\frac{729 d^{2}}{a^{2}} + \\frac{108 c^{3}}{a^{3}}}}{2} + \\frac{27 d}{2 a}}}$"
      ],
      "text/plain": [
       "-(-1/2 - sqrt(3)*I/2)*(sqrt(729*d**2/a**2 + 108*c**3/a**3)/2 + 27*d/(2*a))**(1/3)/3 + c/(a*(-1/2 - sqrt(3)*I/2)*(sqrt(729*d**2/a**2 + 108*c**3/a**3)/2 + 27*d/(2*a))**(1/3))"
      ]
     },
     "metadata": {},
     "output_type": "display_data"
    }
   ],
   "source": [
    "display(Sol3[0])"
   ]
  },
  {
   "cell_type": "code",
   "execution_count": 28,
   "metadata": {},
   "outputs": [
    {
     "data": {
      "text/latex": [
       "$\\displaystyle - \\frac{\\left(- \\frac{1}{2} + \\frac{\\sqrt{3} i}{2}\\right) \\sqrt[3]{\\frac{\\sqrt{\\frac{729 d^{2}}{a^{2}} + \\frac{108 c^{3}}{a^{3}}}}{2} + \\frac{27 d}{2 a}}}{3} + \\frac{c}{a \\left(- \\frac{1}{2} + \\frac{\\sqrt{3} i}{2}\\right) \\sqrt[3]{\\frac{\\sqrt{\\frac{729 d^{2}}{a^{2}} + \\frac{108 c^{3}}{a^{3}}}}{2} + \\frac{27 d}{2 a}}}$"
      ],
      "text/plain": [
       "-(-1/2 + sqrt(3)*I/2)*(sqrt(729*d**2/a**2 + 108*c**3/a**3)/2 + 27*d/(2*a))**(1/3)/3 + c/(a*(-1/2 + sqrt(3)*I/2)*(sqrt(729*d**2/a**2 + 108*c**3/a**3)/2 + 27*d/(2*a))**(1/3))"
      ]
     },
     "metadata": {},
     "output_type": "display_data"
    }
   ],
   "source": [
    "display(Sol3[1])"
   ]
  },
  {
   "cell_type": "code",
   "execution_count": 29,
   "metadata": {},
   "outputs": [
    {
     "data": {
      "text/latex": [
       "$\\displaystyle - \\frac{\\sqrt[3]{\\frac{\\sqrt{\\frac{729 d^{2}}{a^{2}} + \\frac{108 c^{3}}{a^{3}}}}{2} + \\frac{27 d}{2 a}}}{3} + \\frac{c}{a \\sqrt[3]{\\frac{\\sqrt{\\frac{729 d^{2}}{a^{2}} + \\frac{108 c^{3}}{a^{3}}}}{2} + \\frac{27 d}{2 a}}}$"
      ],
      "text/plain": [
       "-(sqrt(729*d**2/a**2 + 108*c**3/a**3)/2 + 27*d/(2*a))**(1/3)/3 + c/(a*(sqrt(729*d**2/a**2 + 108*c**3/a**3)/2 + 27*d/(2*a))**(1/3))"
      ]
     },
     "metadata": {},
     "output_type": "display_data"
    }
   ],
   "source": [
    "display(Sol3[2])"
   ]
  },
  {
   "cell_type": "code",
   "execution_count": 30,
   "metadata": {},
   "outputs": [
    {
     "data": {
      "text/plain": [
       "-1"
      ]
     },
     "execution_count": 30,
     "metadata": {},
     "output_type": "execute_result"
    }
   ],
   "source": [
    "f(1)"
   ]
  },
  {
   "cell_type": "code",
   "execution_count": 32,
   "metadata": {},
   "outputs": [
    {
     "data": {
      "text/plain": [
       "-8.881784197001252e-16"
      ]
     },
     "execution_count": 32,
     "metadata": {},
     "output_type": "execute_result"
    }
   ],
   "source": [
    "import numpy as np\n",
    "f(-2*np.cos(np.pi/9))"
   ]
  },
  {
   "cell_type": "code",
   "execution_count": 36,
   "metadata": {},
   "outputs": [
    {
     "data": {
      "text/plain": [
       "-4.440892098500626e-16"
      ]
     },
     "execution_count": 36,
     "metadata": {},
     "output_type": "execute_result"
    }
   ],
   "source": [
    "f(-np.sqrt(3)*np.sin(np.pi/9) + np.cos(np.pi/9))"
   ]
  },
  {
   "cell_type": "code",
   "execution_count": 37,
   "metadata": {},
   "outputs": [
    {
     "data": {
      "text/plain": [
       "(-1.8793852415718166, 0.3472963553337031, 1.532088886237956)"
      ]
     },
     "execution_count": 37,
     "metadata": {},
     "output_type": "execute_result"
    }
   ],
   "source": [
    "from scipy.optimize import brentq, newton\n",
    "brentq(f, -3, 0), brentq(f, 0, 1), brentq(f, 1,3)"
   ]
  },
  {
   "cell_type": "code",
   "execution_count": 38,
   "metadata": {},
   "outputs": [
    {
     "data": {
      "text/plain": [
       "(-1.8793852415718166, 0.34729635533385395, 1.5320888862379578)"
      ]
     },
     "execution_count": 38,
     "metadata": {},
     "output_type": "execute_result"
    }
   ],
   "source": [
    "newton(f, -3), newton(f, 0), newton(f, 3)"
   ]
  },
  {
   "cell_type": "code",
   "execution_count": 39,
   "metadata": {},
   "outputs": [
    {
     "data": {
      "text/plain": [
       "(-1.8793852415718166, 0.34729635533386066, 1.532088886237956)"
      ]
     },
     "execution_count": 39,
     "metadata": {},
     "output_type": "execute_result"
    }
   ],
   "source": [
    "fprime = lambda x: 3*x**2 - 3\n",
    "newton(f, -3, fprime), newton(f, 0, fprime), newton(f, 3, fprime)"
   ]
  },
  {
   "cell_type": "code",
   "execution_count": 49,
   "metadata": {},
   "outputs": [
    {
     "data": {
      "image/png": "[encoded data removed]",
      "text/plain": [
       "<Figure size 432x288 with 1 Axes>"
      ]
     },
     "metadata": {},
     "output_type": "display_data"
    }
   ],
   "source": [
    "x = np.linspace(-3,3,100)\n",
    "plt.plot(x, f(x), color='blue')\n",
    "plt.plot(x, x)\n",
    "plt.show()"
   ]
  },
  {
   "cell_type": "code",
   "execution_count": 43,
   "metadata": {},
   "outputs": [
    {
     "data": {
      "text/plain": [
       "(array(0.25410169), array(-2.11490754), array(1.86080585))"
      ]
     },
     "execution_count": 43,
     "metadata": {},
     "output_type": "execute_result"
    }
   ],
   "source": [
    "from scipy.optimize import fixed_point\n",
    "fixed_point(f, 0), fixed_point(f, -3), fixed_point(f, 3)"
   ]
  },
  {
   "cell_type": "code",
   "execution_count": 50,
   "metadata": {},
   "outputs": [
    {
     "data": {
      "image/png": "[encoded data removed]",
      "text/plain": [
       "<Figure size 432x288 with 1 Axes>"
      ]
     },
     "metadata": {},
     "output_type": "display_data"
    }
   ],
   "source": [
    "def g(x):\n",
    "    return (x**3)/3+1/3\n",
    "x = np.linspace(-3,3,100)\n",
    "plt.plot(x, g(x), color='blue')\n",
    "plt.plot(x, x)\n",
    "plt.show()"
   ]
  },
  {
   "cell_type": "code",
   "execution_count": 45,
   "metadata": {},
   "outputs": [
    {
     "data": {
      "text/plain": [
       "(array(0.34729636), array(-1.87938524), array(1.53208889))"
      ]
     },
     "execution_count": 45,
     "metadata": {},
     "output_type": "execute_result"
    }
   ],
   "source": [
    "fixed_point(g, 0), fixed_point(g, -3), fixed_point(g, 3)"
   ]
  },
  {
   "cell_type": "code",
   "execution_count": null,
   "metadata": {},
   "outputs": [],
   "source": []
  }
 ],
 "metadata": {
  "kernelspec": {
   "display_name": "Python 3",
   "language": "python",
   "name": "python3"
  },
  "language_info": {
   "codemirror_mode": {
    "name": "ipython",
    "version": 3
   },
   "file_extension": ".py",
   "mimetype": "text/x-python",
   "name": "python",
   "nbconvert_exporter": "python",
   "pygments_lexer": "ipython3",
   "version": "3.6.5"
  }
 },
 "nbformat": 4,
 "nbformat_minor": 5
}
