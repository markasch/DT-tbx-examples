{
 "cells": [
  {
   "cell_type": "markdown",
   "metadata": {},
   "source": [
    "We begin by finding the roots symbolically, using `sympy`. First, on a simple case $f(x)=x^2-1,$ then on $f(x)=x^3-3x+1.$"
   ]
  },
  {
   "cell_type": "code",
   "execution_count": 1,
   "metadata": {},
   "outputs": [
    {
     "data": {
      "text/plain": [
       "[-1, 1]"
      ]
     },
     "execution_count": 1,
     "metadata": {},
     "output_type": "execute_result"
    }
   ],
   "source": [
    "from sympy.solvers import solve, solveset\n",
    "from sympy import Symbol, var\n",
    "x = Symbol('x')\n",
    "solve(x**2 -1,x)"
   ]
  },
  {
   "cell_type": "code",
   "execution_count": 2,
   "metadata": {},
   "outputs": [
    {
     "data": {
      "text/plain": [
       "{-sqrt(3)*sin(pi/9)/2 - 3*re(1/((-1/2 - sqrt(3)*I/2)*(27/2 + 27*sqrt(3)*I/2)**(1/3))) + cos(pi/9)/2 + I*(-3*im(1/((-1/2 - sqrt(3)*I/2)*(27/2 + 27*sqrt(3)*I/2)**(1/3))) + sin(pi/9)/2 + sqrt(3)*cos(pi/9)/2), sqrt(3)*sin(pi/9)/2 + cos(pi/9)/2 - 3*re(1/((-1/2 + sqrt(3)*I/2)*(27/2 + 27*sqrt(3)*I/2)**(1/3))) + I*(-sqrt(3)*cos(pi/9)/2 + sin(pi/9)/2 - 3*im(1/((-1/2 + sqrt(3)*I/2)*(27/2 + 27*sqrt(3)*I/2)**(1/3)))), -2*cos(pi/9)}"
      ]
     },
     "execution_count": 2,
     "metadata": {},
     "output_type": "execute_result"
    }
   ],
   "source": [
    "x = var('x',real=True)\n",
    "solveset(x**3-3*x+1,x)"
   ]
  },
  {
   "cell_type": "markdown",
   "metadata": {},
   "source": [
    "Note that the imaginary terms are roundoff errors, and can be ignored since $f(x)$ has real roots. Let us examine its graph."
   ]
  },
  {
   "cell_type": "code",
   "execution_count": 3,
   "metadata": {},
   "outputs": [
    {
     "data": {
      "image/png": "[encoded data removed]",
      "text/plain": [
       "<Figure size 432x288 with 1 Axes>"
      ]
     },
     "metadata": {},
     "output_type": "display_data"
    }
   ],
   "source": [
    "%matplotlib inline\n",
    "import numpy as np\n",
    "import matplotlib.pyplot as plt\n",
    "plt.style.use('ggplot')\n",
    "\n",
    "def f(x):\n",
    "    return x**3-3*x+1\n",
    "x = np.linspace(-3,3,100)\n",
    "plt.axhline(0, c='red')\n",
    "plt.plot(x, f(x),'blue')\n",
    "plt.show()"
   ]
  },
  {
   "cell_type": "markdown",
   "metadata": {},
   "source": [
    "We check the symbolic roots."
   ]
  },
  {
   "cell_type": "code",
   "execution_count": 4,
   "metadata": {},
   "outputs": [
    {
     "data": {
      "text/plain": [
       "-8.881784197001252e-16"
      ]
     },
     "execution_count": 4,
     "metadata": {},
     "output_type": "execute_result"
    }
   ],
   "source": [
    "import numpy as np\n",
    "f(-2*np.cos(np.pi/9))"
   ]
  },
  {
   "cell_type": "code",
   "execution_count": 5,
   "metadata": {},
   "outputs": [
    {
     "data": {
      "text/plain": [
       "-4.440892098500626e-16"
      ]
     },
     "execution_count": 5,
     "metadata": {},
     "output_type": "execute_result"
    }
   ],
   "source": [
    "f(-np.sqrt(3)*np.sin(np.pi/9) + np.cos(np.pi/9))"
   ]
  },
  {
   "cell_type": "markdown",
   "metadata": {},
   "source": [
    "We will use the following methods to find the three roots:\n",
    "\n",
    "- Brent's method \n",
    "- secant method\n",
    "- Newton's method\n",
    "- fixed-point iteration\n",
    "\n",
    "Note that for Newton's method,  we can optionally supply the exact derivative of $f.$"
   ]
  },
  {
   "cell_type": "code",
   "execution_count": 6,
   "metadata": {},
   "outputs": [
    {
     "data": {
      "text/plain": [
       "(-1.8793852415718166, 0.3472963553337031, 1.532088886237956)"
      ]
     },
     "execution_count": 6,
     "metadata": {},
     "output_type": "execute_result"
    }
   ],
   "source": [
    "from scipy.optimize import brentq, newton\n",
    "brentq(f, -3, 0), brentq(f, 0, 1), brentq(f, 1,3)"
   ]
  },
  {
   "cell_type": "code",
   "execution_count": 7,
   "metadata": {},
   "outputs": [
    {
     "data": {
      "text/plain": [
       "(-1.8793852415718166, 0.34729635533385395, 1.5320888862379578)"
      ]
     },
     "execution_count": 7,
     "metadata": {},
     "output_type": "execute_result"
    }
   ],
   "source": [
    "newton(f, -3), newton(f, 0), newton(f, 3)"
   ]
  },
  {
   "cell_type": "code",
   "execution_count": 8,
   "metadata": {},
   "outputs": [
    {
     "data": {
      "text/plain": [
       "(-1.8793852415718166, 0.34729635533386066, 1.532088886237956)"
      ]
     },
     "execution_count": 8,
     "metadata": {},
     "output_type": "execute_result"
    }
   ],
   "source": [
    "fprime = lambda x: 3*x**2 - 3\n",
    "newton(f, -3, fprime), newton(f, 0, fprime), newton(f, 3, fprime)"
   ]
  },
  {
   "cell_type": "markdown",
   "metadata": {},
   "source": [
    "To use a fixed-point iteration, we must reformulate the problem $f(x)=0$ as $g(x)=x.$ We obtain $$\\frac{x^3}{3} + \\frac{1}{3} =x.$$"
   ]
  },
  {
   "cell_type": "code",
   "execution_count": 9,
   "metadata": {},
   "outputs": [
    {
     "data": {
      "image/png": "[encoded data removed]",
      "text/plain": [
       "<Figure size 432x288 with 1 Axes>"
      ]
     },
     "metadata": {},
     "output_type": "display_data"
    }
   ],
   "source": [
    "def g(x):\n",
    "    return (x**3)/3+1/3\n",
    "x = np.linspace(-3,3,100)\n",
    "plt.plot(x, g(x), color='blue')\n",
    "plt.plot(x, x)\n",
    "plt.show()"
   ]
  },
  {
   "cell_type": "code",
   "execution_count": 10,
   "metadata": {},
   "outputs": [
    {
     "data": {
      "text/plain": [
       "(array(0.34729636), array(-1.87938524), array(1.53208889))"
      ]
     },
     "execution_count": 10,
     "metadata": {},
     "output_type": "execute_result"
    }
   ],
   "source": [
    "from scipy.optimize import fixed_point\n",
    "fixed_point(g, 0), fixed_point(g, -3), fixed_point(g, 3)"
   ]
  },
  {
   "cell_type": "code",
   "execution_count": null,
   "metadata": {},
   "outputs": [],
   "source": []
  }
 ],
 "metadata": {
  "kernelspec": {
   "display_name": "Python 3",
   "language": "python",
   "name": "python3"
  },
  "language_info": {
   "codemirror_mode": {
    "name": "ipython",
    "version": 3
   },
   "file_extension": ".py",
   "mimetype": "text/x-python",
   "name": "python",
   "nbconvert_exporter": "python",
   "pygments_lexer": "ipython3",
   "version": "3.6.5"
  }
 },
 "nbformat": 4,
 "nbformat_minor": 5
}
